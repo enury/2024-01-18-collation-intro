{
 "cells": [
  {
   "cell_type": "markdown",
   "metadata": {
    "slideshow": {
     "slide_type": "slide"
    }
   },
   "source": [
    "# Premiers pas avec CollateX\n",
    "Enfin, nous allons commencer à utiliser CollateX !\n",
    "\n",
    "Rappel :\n",
    "- lire les cellules Markdown (ou écrire des notes)\n",
    "- exécuter les cellules de Code précédées d'un `[x]:` avec le bouton ![run](images/jupyter-bouton1.png)."
   ]
  },
  {
   "cell_type": "markdown",
   "metadata": {
    "slideshow": {
     "slide_type": "slide"
    }
   },
   "source": [
    "## Importer CollateX\n",
    "CollateX est un module et ne fait pas partie des fonctions que l'on peut utiliser par défaut, il faut l'importer :"
   ]
  },
  {
   "cell_type": "code",
   "execution_count": null,
   "metadata": {},
   "outputs": [],
   "source": [
    "# ici * signifie que nous importons tout\n",
    "from collatex import *"
   ]
  },
  {
   "cell_type": "markdown",
   "metadata": {
    "tags": []
   },
   "source": [
    "Est-ce que cela a marché ? \n",
    "\n",
    "Comme nous sommes dans Binder, tout est installé par défaut et il ne devrait pas y avoir de problème.\n",
    "\n",
    "Pour une installation locale, voici des [instructions](https://github.com/automaticCollationLausanne2020/Materials/blob/master/installation.md#33-installing-the-python-levenshtein-library) (anglais).\n"
   ]
  },
  {
   "cell_type": "markdown",
   "metadata": {
    "slideshow": {
     "slide_type": "slide"
    }
   },
   "source": [
    "## Créer un objet \"Collation\"\n",
    "\n",
    "Nous créons une donnée de type \"Collation\" avec cette ligne de code un peu hermétique :\n",
    "\n",
    "`collation = Collation()`\n",
    "\n",
    "Ici, `collation` en minuscule est le nom de la variable, vous pouvez choisir n'importe quel nom. \n",
    "\n",
    "La fonction `Collation()` génère une \"instance\" d'un nouveau type de données - un objet de type \"Collation\" - qui a été créé spécialement pour CollateX.\n"
   ]
  },
  {
   "cell_type": "code",
   "execution_count": null,
   "metadata": {},
   "outputs": [],
   "source": [
    "collation = Collation()"
   ]
  },
  {
   "cell_type": "markdown",
   "metadata": {
    "slideshow": {
     "slide_type": "slide"
    }
   },
   "source": [
    "## Ajouter des témoins\n",
    "La variable `collation` (de type Collation) contiendra les témoins que nous souhaitons comparer.\n",
    "\n",
    "Chaque témoin possède deux propriétés :\n",
    "- un nom (ou sigle) pour l'identifier. Le nom peut être une seule lettre, un chiffre ou un nom plus long\n",
    "- un texte qui sera collationné\n",
    "\n",
    "Nous devons utiliser la méthode `add_plain_witness()`."
   ]
  },
  {
   "cell_type": "code",
   "execution_count": null,
   "metadata": {
    "slideshow": {
     "slide_type": "slide"
    }
   },
   "outputs": [],
   "source": [
    "collation.add_plain_witness('A', 'Bladorthin, Dwarves, and Mr Baggins.')\n",
    "collation.add_plain_witness('B', 'Bladorthin, dwarves and Mr Baggins, [...]')\n",
    "collation.add_plain_witness('C', 'Gandalf, dwarves and Mr Baggins!')"
   ]
  },
  {
   "cell_type": "code",
   "execution_count": null,
   "metadata": {
    "tags": []
   },
   "outputs": [],
   "source": [
    "# Nous pouvons compter les témoins dans notre objet Collation\n",
    "len(collation.witnesses)"
   ]
  },
  {
   "cell_type": "markdown",
   "metadata": {
    "slideshow": {
     "slide_type": "slide"
    }
   },
   "source": [
    "## Collationner\n",
    "\n",
    "La fonction `collate()` prend comme argument l'objet `collation`, et va générer la collation à partir des témoins contenu dans cette Collation.\n",
    "\n",
    "Nous allons sauvegarder le résultat dans une variable."
   ]
  },
  {
   "cell_type": "code",
   "execution_count": null,
   "metadata": {},
   "outputs": [],
   "source": [
    "result = collate(collation)"
   ]
  },
  {
   "cell_type": "markdown",
   "metadata": {
    "slideshow": {
     "slide_type": "slide"
    }
   },
   "source": [
    "## Voir le résultat\n",
    "Utiliser la fonction `print()` - et voilà ! \n",
    "\n",
    "Vous avez réussi votre première collation 🥳"
   ]
  },
  {
   "cell_type": "code",
   "execution_count": null,
   "metadata": {},
   "outputs": [],
   "source": [
    "print(result)"
   ]
  },
  {
   "cell_type": "markdown",
   "metadata": {
    "slideshow": {
     "slide_type": "slide"
    }
   },
   "source": [
    "Vous savez maintenant comment faire la collation la plus basique possible.\n",
    "\n",
    "Mais la fonction `collate()` a d'autres options qui permettent de modifier l'aspect du résultat.\n",
    "\n",
    "Voici deux de ces options :\n",
    "- **layout** : soit \"horizontal\" (par défaut), soit \"vertical\"\n",
    "- **segmentation** : soit `True` (par défaut), soit `False`"
   ]
  },
  {
   "cell_type": "code",
   "execution_count": null,
   "metadata": {
    "slideshow": {
     "slide_type": "slide"
    }
   },
   "outputs": [],
   "source": [
    "# layout change l'orientation de la table\n",
    "result2 = collate(collation, layout='vertical')\n",
    "print(result2)"
   ]
  },
  {
   "cell_type": "code",
   "execution_count": null,
   "metadata": {
    "slideshow": {
     "slide_type": "slide"
    }
   },
   "outputs": [],
   "source": [
    "# segmentation permet de rassembler (True) les tokens alignés ou séparer (False) chaque token\n",
    "result3 = collate(collation, layout='vertical', segmentation=False)\n",
    "print(result3)"
   ]
  },
  {
   "cell_type": "markdown",
   "metadata": {
    "slideshow": {
     "slide_type": "slide"
    },
    "tags": []
   },
   "source": [
    "## Récapitulatif et exercice\n",
    "\n",
    "Avant de continuer avec la lecture des textes à partir de fichiers et les différents output de CollateX, reprenons ce que nous venons de voir dans un petit exercice."
   ]
  },
  {
   "cell_type": "markdown",
   "metadata": {
    "slideshow": {
     "slide_type": "skip"
    }
   },
   "source": [
    "**Tout d'abord**, placez-vous sur la cellule *A votre tour !* et changez le titre pour quelque chose comme \"Mon test CollateX\", afin que vous sachiez qu'il s'agit de votre propre code. Vous pouvez utiliser cette cellule Markdown, ou bien des commentaires dans le code, pour documenter ce que vous faites.\n",
    "\n",
    "**Ensuite**, créez une cellule Code et copiez le code ci-dessous : c'est tout ce dont CollateX a besoin pour collationner quelques textes, les mêmes instructions que nous lui avons données précédemment mais rassemblées en une seule cellule.\n",
    "\n",
    "**Maintenant**, exécutez la cellule une première fois et voyez les résultats.\n",
    "\n",
    "**Apportez des modifications** et voyez comment le résultat change lorsque vous exécutez à nouveau la cellule. Changez une chose à la fois : de cette façon, si vous obtenez un message d'erreur, il sera plus facile de déboguer le code. Essayez les modifications suivantes :\n",
    "  1. Changez le texte pour chaque témoin\n",
    "  1. Ajouter un nouveau témoin\n",
    "  2. Définissez l'option de segmentation sur True (vous verrez que cela revient à la supprimer)\n",
    "  4. Il est également possible de changer le sigle de chaque témoin. Le sigle est l'abréviation utilisée pour désigner un témoin, ici « A », « B », « C »."
   ]
  },
  {
   "cell_type": "code",
   "execution_count": null,
   "metadata": {
    "tags": []
   },
   "outputs": [],
   "source": [
    "# résumé du code\n",
    "from collatex import *\n",
    "collation = Collation()\n",
    "collation.add_plain_witness('A', 'Bladorthin, Dwarves, and Mr Baggins.')\n",
    "collation.add_plain_witness('B', 'Bladorthin, dwarves and Mr Baggins, [...]')\n",
    "collation.add_plain_witness('C', 'Gandalf, dwarves and Mr Baggins!')\n",
    "result = collate(collation, layout='vertical', segmentation=False)\n",
    "print(result)"
   ]
  },
  {
   "cell_type": "markdown",
   "metadata": {
    "tags": []
   },
   "source": [
    "### *A votre tour !*"
   ]
  },
  {
   "cell_type": "markdown",
   "metadata": {
    "slideshow": {
     "slide_type": "slide"
    },
    "tags": []
   },
   "source": [
    "## Formats d'input\n",
    "\n",
    "Les deux formats possibles sont :\n",
    "- texte brut\n",
    "- JSON (deuxième partie du cours)\n",
    "\n",
    "Il n'est pas possible d'utiliser le XML/TEI comme input, car c'est un format qui évolue et il y a une infinité d'encodages valides possibles. Pour CollateX, le choix a été fait de ne pas imposer un format rigide d'encodage TEI."
   ]
  },
  {
   "cell_type": "markdown",
   "metadata": {
    "slideshow": {
     "slide_type": "slide"
    },
    "tags": []
   },
   "source": [
    "## Lecture à partir d'un fichier\n",
    "\n",
    "Nous avons déjà vu comment introduire le texte brut dans le code Python juste avant, mais ce n'est pas pratique pour des textes plus longs.\n",
    "\n",
    "Dans ce cas, nous pouvons lire le contenu d'un fichiers pour en extaire le texte d'un témoin.\n",
    "\n",
    "On accède à un fichier par son chemin d'accès:"
   ]
  },
  {
   "cell_type": "code",
   "execution_count": null,
   "metadata": {},
   "outputs": [],
   "source": [
    "# chemin complet, sur un ordinateur\n",
    "path_absolute = \"D:/Documents/academia/collation_workshops/data/discworld.txt\"\n",
    "\n",
    "# chemin relatif, par rapport à où je me trouve maintenant \n",
    "path_relative = \"data/Pratchett/discworld.txt\""
   ]
  },
  {
   "cell_type": "markdown",
   "metadata": {
    "slideshow": {
     "slide_type": "slide"
    },
    "tags": []
   },
   "source": [
    "Pour ouvrir le fichier et le lire, nous allons combiner la méthode `read()` avec la fonction `open()` qui prend en argument :\n",
    "- le chemin d'accès\n",
    "- `r` pour *read*, ce que l'on veut faire\n",
    "- l'encodage du texte"
   ]
  },
  {
   "cell_type": "code",
   "execution_count": null,
   "metadata": {
    "slideshow": {
     "slide_type": "slide"
    },
    "tags": []
   },
   "outputs": [],
   "source": [
    "# r = read, \"lecture\" \n",
    "# mais on peut ouvrir un fichier pour autre chose, comme l'écriture !\n",
    "# il est important de préciser l'encodage du texte pour éviter les mauvaises surprises avec les caractères spéciaux\n",
    "text = open('data/Pratchett/discworld.txt', 'r', encoding='utf-8').read()\n",
    "print(text)"
   ]
  },
  {
   "cell_type": "markdown",
   "metadata": {
    "slideshow": {
     "slide_type": "skip"
    },
    "tags": []
   },
   "source": [
    "### Les bonnes pratiques\n",
    "\n",
    "William J. Turkel et Adam Crymble, « Travailler avec des fichiers texte en Python », traduction par Sylvain Machefert, Programming Historian en français 1 (2019), https://doi.org/10.46430/phfr0005\n",
    "\n",
    "[Cours de Python](https://python.sdv.univ-paris-diderot.fr/07_fichiers/) de l'université Paris Diderot.\n",
    "\n",
    "[Tutoriel](https://www.codecademy.com/resources/docs/general/file-paths) sur les chemins d'accès (en anglais). "
   ]
  },
  {
   "cell_type": "code",
   "execution_count": null,
   "metadata": {
    "slideshow": {
     "slide_type": "slide"
    },
    "tags": []
   },
   "outputs": [],
   "source": [
    "# créer trois témoin pour une nouvelle collation à partir des fichiers\n",
    "# remplacer \"...\" par le code qui permet de lire le fichier\n",
    "\n",
    "# chemin 1 ex: data/Tolkien/bilbo-pryftan-frgmt.txt\n",
    "wit1 = \"texte 1\"\n",
    "\n",
    "# chemin 2 ex: data/Tolkien/bilbo-bladorthin-tpscr.txt\n",
    "wit2 = \"texte 2\"\n",
    "\n",
    "# chemin 3 ex: data/Tolkien/bilbo-edition-1995.txt\n",
    "wit3 = \"texte 3\""
   ]
  },
  {
   "cell_type": "code",
   "execution_count": null,
   "metadata": {
    "slideshow": {
     "slide_type": "slide"
    },
    "tags": []
   },
   "outputs": [],
   "source": [
    "# créer une collation\n",
    "tolkien = Collation()\n",
    "\n",
    "# ajouter les témoins\n",
    "tolkien.add_plain_witness(\"sigle1\", wit1)\n",
    "\n",
    "# collationner\n",
    "result = collate(tolkien)\n",
    "print(result)"
   ]
  },
  {
   "cell_type": "markdown",
   "metadata": {
    "slideshow": {
     "slide_type": "slide"
    },
    "tags": []
   },
   "source": [
    "## Formats de sortie (output)\n",
    "\n",
    "Voici toutes les options pour l'argument `output` de la fonction `collate()`:\n",
    "\n",
    "- table (par défaut)\n",
    "- csv\n",
    "- tsv\n",
    "- xml\n",
    "- tei\n",
    "- html\n",
    "- html2\n",
    "- graph\n",
    "- svg_simple\n",
    "- svg\n",
    "- json"
   ]
  },
  {
   "cell_type": "code",
   "execution_count": null,
   "metadata": {
    "slideshow": {
     "slide_type": "slide"
    },
    "tags": []
   },
   "outputs": [],
   "source": [
    "# exercice: essayez chaque option d'output ! Laquelle préférez-vous ?\n",
    "result = collate(collation, output=\"table\")\n",
    "print(result)"
   ]
  },
  {
   "cell_type": "markdown",
   "metadata": {
    "slideshow": {
     "slide_type": "slide"
    },
    "tags": []
   },
   "source": [
    "### Texte brut, CSV et TSV\n",
    "Losrque nous ne donnons aucune indication à collatex, `table` est l'option par défaut.\n",
    "\n",
    "Les outputs `csv` et `tsv` produisent le même résultat, avec des tokens séparés par des virgules (csv) ou des tabulations (tsv).\n",
    "\n",
    "Mais ce n'est pas toujours très satisfaisant au niveau de la visualisation, les différences entre tokens ne sont pas faciles à repérer."
   ]
  },
  {
   "cell_type": "code",
   "execution_count": null,
   "metadata": {
    "slideshow": {
     "slide_type": "slide"
    },
    "tags": []
   },
   "outputs": [],
   "source": [
    "table = collate(collation, output='tsv')\n",
    "print(table)"
   ]
  },
  {
   "cell_type": "markdown",
   "metadata": {
    "slideshow": {
     "slide_type": "slide"
    }
   },
   "source": [
    "## XML et XML/TEI\n",
    "\n",
    "De la même façon, on peut exporter la table de collation aux formats `xml`, ou `tei`, qui peuvent être ensuite post-processé avec du XSLT.\n",
    "\n",
    "La différence principale entre les deux, c'est que le format TEI produit une version condensée de la table, en ne créant des éléments `<app>` qu'aux points de divergence des témoins (ce qu'on appelle aussi un apparat négatif)."
   ]
  },
  {
   "cell_type": "code",
   "execution_count": null,
   "metadata": {
    "slideshow": {
     "slide_type": "slide"
    },
    "tags": []
   },
   "outputs": [],
   "source": [
    "table = collate(collation, output='xml')\n",
    "print(table)"
   ]
  },
  {
   "cell_type": "markdown",
   "metadata": {
    "slideshow": {
     "slide_type": "slide"
    }
   },
   "source": [
    "Le résultat en TEI est plus lisible lorsque l'on ajoute l'argument `indent` avec la valeur `True`:"
   ]
  },
  {
   "cell_type": "code",
   "execution_count": null,
   "metadata": {
    "slideshow": {
     "slide_type": "fragment"
    }
   },
   "outputs": [],
   "source": [
    "table = collate(collation, output=\"tei\", indent=True)\n",
    "print(table)"
   ]
  },
  {
   "cell_type": "markdown",
   "metadata": {
    "slideshow": {
     "slide_type": "slide"
    },
    "tags": []
   },
   "source": [
    "### HTML\n",
    "\n",
    "Il existe deux outputs HTML : `html` et `html2`. \n",
    "\n",
    "Le `html2` souligne en rouge les rangs qui contiennent une variante.\n",
    "\n",
    "L'argument `layout` (horizontal et vertical) n'est disponible que pour `html`."
   ]
  },
  {
   "cell_type": "code",
   "execution_count": null,
   "metadata": {
    "tags": []
   },
   "outputs": [],
   "source": [
    "collate(collation, output=\"html2\", segmentation=False)"
   ]
  },
  {
   "cell_type": "markdown",
   "metadata": {
    "slideshow": {
     "slide_type": "slide"
    },
    "tags": []
   },
   "source": [
    "## Graph\n",
    "\n",
    "Il y a trois options possible pour le graph: `svg_simple` et `svg` (pour la visualisation uniquement), ainsi que `graph` (format GraphML pour réutilisation). \n",
    "\n",
    "L'output graph peut se réutiliser, par exemple avec [Stemmaweb](https://stemmaweb.net/)\n",
    "\n",
    "> I recommend that you request CollateX results in its GraphML format, in order to preserve any detected reading transpositions. Do NOT use CollateX’s TEI-style parallel-segmentation output\n"
   ]
  },
  {
   "cell_type": "code",
   "execution_count": null,
   "metadata": {
    "slideshow": {
     "slide_type": "slide"
    },
    "tags": []
   },
   "outputs": [],
   "source": [
    "# montre une seule forme de tokens, par défaut les formes normalisées\n",
    "collate(collation, segmentation=False, output=\"svg_simple\")"
   ]
  },
  {
   "cell_type": "code",
   "execution_count": null,
   "metadata": {},
   "outputs": [],
   "source": [
    "# montre les formes originales et normalisées en parallèle\n",
    "collate(collation, segmentation=True, output=\"svg\")"
   ]
  },
  {
   "cell_type": "markdown",
   "metadata": {
    "slideshow": {
     "slide_type": "slide"
    }
   },
   "source": [
    "## Les combinaisons d'outputs et d'arguments\n",
    "\n",
    "Dans le tableau suivant, les valeurs possibles du paramètre `output` sont répertoriées dans la colonne de gauche, et leur capacité à se combiner avec `layout`, `indent` et `segmentation` est indiquée (« oui » ~ « non »).\n",
    "\n",
    "`output` | `layout` | `indent`| `segmentation`\n",
    "----|----|----|---|\n",
    "**table** | oui | non | oui\n",
    "**html** |  oui | non | oui\n",
    "**html2** | non | non | oui\n",
    "**svg_simple** | non | non | oui\n",
    "**svg** |  non | non | oui\n",
    "**xml** | non | non | oui\n",
    "**tei** | non | oui | non\n",
    "**json**| non | non | oui\n"
   ]
  },
  {
   "cell_type": "code",
   "execution_count": null,
   "metadata": {
    "slideshow": {
     "slide_type": "slide"
    },
    "tags": []
   },
   "outputs": [],
   "source": [
    "# résumé des options d'output - il manque svg_simple et svg !\n",
    "help(collate)"
   ]
  }
 ],
 "metadata": {
  "celltoolbar": "Diaporama",
  "kernelspec": {
   "display_name": "Python 3 (ipykernel)",
   "language": "python",
   "name": "python3"
  },
  "language_info": {
   "codemirror_mode": {
    "name": "ipython",
    "version": 3
   },
   "file_extension": ".py",
   "mimetype": "text/x-python",
   "name": "python",
   "nbconvert_exporter": "python",
   "pygments_lexer": "ipython3",
   "version": "3.10.9"
  },
  "rise": {
   "scroll": true,
   "theme": "solarized",
   "transition": "slide"
  }
 },
 "nbformat": 4,
 "nbformat_minor": 4
}
