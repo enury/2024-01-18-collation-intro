{
 "cells": [
  {
   "cell_type": "markdown",
   "metadata": {
    "slideshow": {
     "slide_type": "slide"
    }
   },
   "source": [
    "# 1. Qu'est-ce qu'un Notebook Jupyter ?"
   ]
  },
  {
   "cell_type": "markdown",
   "metadata": {
    "slideshow": {
     "slide_type": "fragment"
    },
    "tags": []
   },
   "source": [
    "- un fichier avec l'extension `.ipynb`\n",
    "- contient \n",
    "  1. texte à lire (Markdown)\n",
    "  2. code à exécuter (Python)"
   ]
  },
  {
   "cell_type": "markdown",
   "metadata": {
    "slideshow": {
     "slide_type": "slide"
    }
   },
   "source": [
    "## Lancer le Notebook Jupyter avec Binder\n",
    "\n",
    "- Aller sur le dépôt github du cours : https://github.com/enury/2024-01-18-collation-intro\n",
    "- Cliquer sur : ![image.png](https://mybinder.org/static/images/badge_logo.svg?v=117793ab76524046ef44e2d2d5af220c)\n",
    "\n",
    "Cela peut prendre un petit moment pour se mettre en route. en cas de problème, des instructions sont disponibles dans sur la page d'accueil du dépôt.\n",
    "\n",
    "**Binder**\n",
    "permet de créer un environnement virtuel, aucune installation nécessaire."
   ]
  },
  {
   "cell_type": "markdown",
   "metadata": {
    "slideshow": {
     "slide_type": "subslide"
    },
    "tags": []
   },
   "source": [
    "![instructions de secours](images/mybinder-instructions-secours.PNG)"
   ]
  },
  {
   "cell_type": "markdown",
   "metadata": {
    "slideshow": {
     "slide_type": "slide"
    },
    "tags": []
   },
   "source": [
    "![image.png](images/jupyter-lab-homepage.png)\n",
    "\n",
    "Vous voyez quelque chose comme ça ? Hourra !"
   ]
  },
  {
   "cell_type": "markdown",
   "metadata": {
    "slideshow": {
     "slide_type": "skip"
    },
    "tags": []
   },
   "source": [
    "## Page d'accueil\n",
    "\n",
    "Le panneau latéral gauche montre un gestionnaire de fichier, où vous pouvez naviguer normalement dans les dossiers. \n",
    "\n",
    "- **Data** : les données à utiliser pour la collation, \n",
    "- **Images** : les images qui illustrent les notebooks, comme celle juste au-dessus\n",
    "- **Notebooks** : les fichiers avec extension *.ipynb* \n",
    "\n",
    "Faites un double-clic sur `Partie1-Jupyter-python-intro.ipynb` pour ouvrir le notebook."
   ]
  },
  {
   "cell_type": "markdown",
   "metadata": {
    "slideshow": {
     "slide_type": "slide"
    }
   },
   "source": [
    "## Opérations de base dans un Notebook Jupyter\n",
    "\n",
    "Un notebook est fait de **cellules**, tout comme un texte se compose de paragraphes. Les **bordures** d'une cellule apparaissent lorsque l'on clique dessus. \n",
    "\n",
    "Une cellule peut contenir :\n",
    "\n",
    "1. **Texte en Markdown**: c'est ce que l'on utilise pour ajouter de la documentation ou des instructions.\n",
    "2. **Code en Python**.\n",
    "\n",
    "Voyons un peu comment cela fonctionne..."
   ]
  },
  {
   "cell_type": "markdown",
   "metadata": {
    "slideshow": {
     "slide_type": "slide"
    },
    "tags": []
   },
   "source": [
    "### Les actions concernant les cellules\n",
    "\n",
    "![image.png](images/jupyter-barre1.png)\n",
    "\n",
    "1. Ajouter une nouvelle cellule\n",
    "2. Afficher le texte / exécuter le code (CTRL+Enter)\n",
    "3. Changer le type de cellule"
   ]
  },
  {
   "cell_type": "markdown",
   "metadata": {
    "slideshow": {
     "slide_type": "slide"
    }
   },
   "source": [
    "### Cellules de texte\n",
    "\n",
    "Cette cellule contient du texte ! Essayez de double-cliquez dessus pour voir apparaître la mise en forme:\n",
    "\n",
    "- Trois hashtags indiquent un titre de niveau trois \n",
    "- Tout ce qui se trouve entre astérisques est en *italique*\n",
    "- Tout ce qui se trouve entre **deux** astérisques est en **gras**\n",
    "- les tirets créent une liste\n",
    "\n",
    "On peut modifier le texte, par exemple changez le niveau du titre en enlenvant ou ajoutant des hashtags.\n",
    "\n",
    "Maintenant cliquez sur le bouton ![run](images/jupyter-bouton1.png) pour afficher le texte."
   ]
  },
  {
   "cell_type": "markdown",
   "metadata": {
    "slideshow": {
     "slide_type": "subslide"
    },
    "tags": []
   },
   "source": [
    "### Markdown\n",
    "\n",
    "Cette syntaxe s'appelle markdown. \n",
    "\n",
    "Voici une *cheatsheet* [ici](https://www.markdownguide.org/cheat-sheet) et un tutoriel [ici](https://www.markdowntutorial.com/) (Attention: la traduction française peut contenir des erreurs)."
   ]
  },
  {
   "cell_type": "markdown",
   "metadata": {
    "slideshow": {
     "slide_type": "slide"
    }
   },
   "source": [
    "### Cellules de Code\n",
    "\n",
    "Il suffit d'un clic pour \"entrer\" dans la cellule et la modifier.\n",
    "\n",
    "Puis ![run](images/jupyter-bouton1.png) pour exécuter le code !"
   ]
  },
  {
   "cell_type": "code",
   "execution_count": null,
   "metadata": {
    "slideshow": {
     "slide_type": "-"
    }
   },
   "outputs": [],
   "source": [
    "# ceci est un commentaire\n",
    "print(\"Hello world!\")"
   ]
  },
  {
   "cell_type": "markdown",
   "metadata": {
    "slideshow": {
     "slide_type": "fragment"
    }
   },
   "source": [
    "#### Input et output \n",
    "\n",
    "La cellule de code comporte deux parties:\n",
    "1. le code, dans un rectangle précédé de `[x]:`\n",
    "2. le résultat du code apparaît juste en dessous"
   ]
  },
  {
   "cell_type": "markdown",
   "metadata": {
    "slideshow": {
     "slide_type": "slide"
    },
    "tags": []
   },
   "source": [
    "## *A votre tour !*"
   ]
  },
  {
   "cell_type": "markdown",
   "metadata": {
    "slideshow": {
     "slide_type": "slide"
    },
    "tags": []
   },
   "source": [
    "### Cellule de texte\n",
    "\n",
    "1. Sélectionnez la cellule *Insérez du texte* en cliquant dessus, et appuyer sur le bouton **+** dans la barre des tâches.\n",
    "2. une fois dans votre cellule, changez son type en sélectionnant _Markdown_ au lieu de _Code_. Le `[x]` à gauche va disparaître.\n",
    "3. Copiez le texte suivant dans la nouvelle cellule et affichez le résultat avec le bouton ![run](images/jupyter-bouton1.png).\n",
    "\n",
    "\n",
    "`# Bienvenue !`\n",
    "\n",
    "`Voici mon **premier** notebook *Jupyter*.`\n",
    "\n"
   ]
  },
  {
   "cell_type": "markdown",
   "metadata": {},
   "source": [
    "### *Insérez du texte*"
   ]
  },
  {
   "cell_type": "markdown",
   "metadata": {
    "slideshow": {
     "slide_type": "slide"
    },
    "tags": []
   },
   "source": [
    "### Cellule de Code\n",
    "\n",
    "1. Cliquez sur la cellule *Insérez du code* en cliquant dessus, et appuyez sur le bouton **+** dans la barre des tâches.\n",
    "2. Ne pas changer le type de cellule !\n",
    "3. Copiez et exécutez le code ci-dessous\n",
    "\n",
    "`print(\"Hello World!\")`\n",
    "\n",
    "Bravo, vous avez créé votre premier programme !"
   ]
  },
  {
   "cell_type": "markdown",
   "metadata": {},
   "source": [
    "### *Insérez du code*"
   ]
  },
  {
   "cell_type": "markdown",
   "metadata": {
    "slideshow": {
     "slide_type": "slide"
    }
   },
   "source": [
    "## Sauvegarde\n",
    "\n",
    "Comme nous sommes dans l'environnement virtuel de binder, nous ne pouvons pas sauvegarder avec un simple `Ctrl+S` ou bien en cliquant sur l'icône de sauvegarde.\n",
    "\n",
    "Pour garder une copie de vos modifications, il faut télécharger le notebook."
   ]
  },
  {
   "cell_type": "markdown",
   "metadata": {
    "slideshow": {
     "slide_type": "slide"
    }
   },
   "source": [
    "## Téléchargement\n",
    "\n",
    "Il est possible de télécharger le notebook dans différents formats (menu `File > Download`). \n",
    "\n",
    "**Conseil** : toujours sauvegarder une copie au format `.ipynb`. De cette façon, vous pourrez à nouveau travailler sur le notebook et exporter son contenu dans de nouveaux formats si nécessaire.\n",
    "\n",
    "Pour d'autres formats, menu `File > Save and Export Notebook As`."
   ]
  },
  {
   "cell_type": "markdown",
   "metadata": {
    "slideshow": {
     "slide_type": "skip"
    },
    "tags": []
   },
   "source": [
    "## Quelques ressources (anglais)\n",
    "\n",
    "- le site officiel de [Jupyter](https://jupyter.org/) \n",
    "- La [documentation](https://jupyter-notebook.readthedocs.io/en/stable/index.html) des notebooks\n",
    "\n",
    "Pour une introduction orientée DH, voir les premiers chapitres (*Getting setup* et *Getting wanted*) de [The Art of Literary Text Analysis](http://nbviewer.jupyter.org/github/sgsinclair/alta/blob/master/ipynb/ArtOfLiteraryTextAnalysis.ipynb) de Stéfan Sinclair et Geoffrey Rockwell."
   ]
  },
  {
   "cell_type": "markdown",
   "metadata": {
    "slideshow": {
     "slide_type": "slide"
    }
   },
   "source": [
    "# 2. Introduction à Python\n",
    "\n",
    "## Les types de données\n"
   ]
  },
  {
   "cell_type": "code",
   "execution_count": null,
   "metadata": {
    "slideshow": {
     "slide_type": "-"
    }
   },
   "outputs": [],
   "source": [
    "# comparer\n",
    "\"20\"+\"20\""
   ]
  },
  {
   "cell_type": "code",
   "execution_count": null,
   "metadata": {
    "slideshow": {
     "slide_type": "-"
    }
   },
   "outputs": [],
   "source": [
    "20+20"
   ]
  },
  {
   "cell_type": "markdown",
   "metadata": {
    "slideshow": {
     "slide_type": "slide"
    }
   },
   "source": [
    "**Chaines de caractères \"string\" (str)**:\n",
    "une séquence de caractères (lettres, ponctuation, espaces...)\n",
    "\n",
    "**Nombres entiers \"integer\" (int) et à virgule (float)**:  \n",
    "correspond aux nombres entiers (42) et décimaux (42.5). On utilise le point au lieu de la virgule en suivant les conventions anglaises.\n",
    "\n",
    "**Booléen (bool)**: \n",
    "soit vrai `True` ou faux `False`."
   ]
  },
  {
   "cell_type": "code",
   "execution_count": null,
   "metadata": {
    "slideshow": {
     "slide_type": "-"
    }
   },
   "outputs": [],
   "source": [
    "# voir le type de donnée de quelque chose\n",
    "type(\"20\")"
   ]
  },
  {
   "cell_type": "markdown",
   "metadata": {
    "slideshow": {
     "slide_type": "slide"
    }
   },
   "source": [
    "## Variables\n",
    "Les variables servent à nommer un bout de donnée(s).\n"
   ]
  },
  {
   "cell_type": "code",
   "execution_count": null,
   "metadata": {
    "slideshow": {
     "slide_type": "fragment"
    }
   },
   "outputs": [],
   "source": [
    "# voici comment on attribue une valeur à une variable\n",
    "# variable_nom = variable_valeur\n",
    "\n",
    "a = 3.14159\n",
    "\n",
    "# on peut aussi utiliser un guillemet simple: 'hello'\n",
    "b = \"hello world!\" \n",
    "\n",
    "c = b"
   ]
  },
  {
   "cell_type": "markdown",
   "metadata": {
    "slideshow": {
     "slide_type": "slide"
    }
   },
   "source": [
    "- les variables sont utilisées pour stocker une information à utiliser plus tard\n",
    "- vous pouvez imaginer que c'est une **étiquette** qui pointe vers quelque chose dans la mémoire du programme\n",
    "- la valeur d'une variable peut changer\n",
    "- il faut assigner une valeur avant de pouvoir utiliser une variable\n"
   ]
  },
  {
   "cell_type": "code",
   "execution_count": null,
   "metadata": {
    "slideshow": {
     "slide_type": "slide"
    }
   },
   "outputs": [],
   "source": [
    "# 1. assigner une valeur à la variable x\n",
    "x = 2+3\n",
    "\n",
    "# 2. réutiliser et modifier la variable\n",
    "y = x*2\n",
    "x = \"+++ Divide By Cucumber Error. Please Reinstall Universe And Reboot +++\"\n",
    "\n",
    "# maintenant, quelles sont les valeurs des variables x et y ?\n",
    "print(x)\n",
    "print(y)"
   ]
  },
  {
   "cell_type": "markdown",
   "metadata": {
    "slideshow": {
     "slide_type": "slide"
    }
   },
   "source": [
    "## Nommer une variable\n",
    "- le nom d'une variable peut **contenir** des lettres, chiffres et le tiret bas `_`\n",
    "- le nom **commence** par une lettre ou `_`\n",
    "- le nom est sensible à la casse (`Test`et `test` sont deux variables differentes)\n",
    "- il est préférable d'utiliser des noms évocateurs (`wordCount` ou `word_count` plutôt que `a` ou `b`)"
   ]
  },
  {
   "cell_type": "markdown",
   "metadata": {
    "slideshow": {
     "slide_type": "slide"
    }
   },
   "source": [
    "## Une erreur ? Pas de panique !"
   ]
  },
  {
   "cell_type": "code",
   "execution_count": null,
   "metadata": {
    "tags": []
   },
   "outputs": [],
   "source": [
    "a = \"The answer is \"\n",
    "b = 42\n",
    "a+b"
   ]
  },
  {
   "cell_type": "markdown",
   "metadata": {
    "slideshow": {
     "slide_type": "slide"
    },
    "tags": []
   },
   "source": [
    "<img src=\"images/python-error-1.png\"  style=\"display:block;margin-right:auto;margin-left:auto;\">"
   ]
  },
  {
   "cell_type": "markdown",
   "metadata": {
    "slideshow": {
     "slide_type": "subslide"
    }
   },
   "source": [
    "Python vous donne l'information nécessaire pour corriger l'erreur:\n",
    "1. la sorte d'erreur : il y a un problème avec un type de données (`TypeError`)\n",
    "2. Le message : on peut seulement concaténer (`+`) des strings ensembles, pas des strings avec des nombres\n",
    "3. la ligne de code qui contient l'erreur"
   ]
  },
  {
   "cell_type": "markdown",
   "metadata": {
    "slideshow": {
     "slide_type": "slide"
    },
    "tags": []
   },
   "source": [
    "**Conclusion**: la variable `b` devrait être convertie en string, si on veut éliminer l'erreur de la ligne 3 `a+b`."
   ]
  },
  {
   "cell_type": "code",
   "execution_count": null,
   "metadata": {},
   "outputs": [],
   "source": [
    "# on peut ajouter manuellement des guillemets\n",
    "b = 42\n",
    "\n",
    "# ou utiliser la fonction str()\n",
    "b = str(42)"
   ]
  },
  {
   "cell_type": "markdown",
   "metadata": {
    "slideshow": {
     "slide_type": "slide"
    }
   },
   "source": [
    "## Fonctions\n",
    "C'est avec les fonctions qu'on donne des instructions à la machine !"
   ]
  },
  {
   "cell_type": "code",
   "execution_count": null,
   "metadata": {
    "slideshow": {
     "slide_type": "fragment"
    }
   },
   "outputs": [],
   "source": [
    "# attribuer votre nom à la variable\n",
    "name = \"\"\n",
    "\n",
    "# demander à l'ordinateur de vous saluer\n",
    "print(\"Salut \"+name+\"!\")"
   ]
  },
  {
   "cell_type": "markdown",
   "metadata": {
    "slideshow": {
     "slide_type": "slide"
    }
   },
   "source": [
    "## Fonctions - Exemples\n",
    "\n",
    "- général : `print()`, `help()`\n",
    "- types de données : `type()`, `int()`, `str()`\n",
    "- compter la longueur (*length*) : `len()`\n",
    "\n",
    "Ce qui vient entre parenthèses s'appelle l'`argument`. Les arguments sont des données transmises à la fonction pour qu'elle puisse faire son travail ! \n",
    "\n",
    "Les arguments peuvent être optionnels ou obligatoires."
   ]
  },
  {
   "cell_type": "markdown",
   "metadata": {
    "slideshow": {
     "slide_type": "slide"
    }
   },
   "source": [
    "Normalement, les fonctions renvoient quelque chose, une donnée que l'on peut stocker dans une variable pour un autre usage :"
   ]
  },
  {
   "cell_type": "code",
   "execution_count": null,
   "metadata": {
    "scrolled": true,
    "slideshow": {
     "slide_type": "-"
    }
   },
   "outputs": [],
   "source": [
    "a = \"a short string\"\n",
    "b = len(a)\n",
    "print(b)"
   ]
  },
  {
   "cell_type": "markdown",
   "metadata": {
    "slideshow": {
     "slide_type": "slide"
    }
   },
   "source": [
    "## Méthodes\n",
    "Les méthodes sont des fonctions qui s'appliquent à un type de données en particulier :\n",
    "`str.upper()`, `str.find(sub[, start[, end]])`\n",
    "\n",
    "Ces fonctions s'appliquent à une *string* (str). Les arguments nécessaires sont entre parenthèses: `str.upper` n'a pas d'argument, mais `str.find` a besoin d'au moins un argument (*sub*) et deux sont optionnels (*start* et *end*).\n",
    "\n",
    "Voici la liste des méthodes pour les strings : <https://docs.python.org/3/library/stdtypes.html#string-methods>"
   ]
  },
  {
   "cell_type": "markdown",
   "metadata": {
    "slideshow": {
     "slide_type": "slide"
    }
   },
   "source": [
    "## Exemples - travailler avec les strings"
   ]
  },
  {
   "cell_type": "code",
   "execution_count": 5,
   "metadata": {
    "slideshow": {
     "slide_type": "-"
    }
   },
   "outputs": [],
   "source": [
    "message = \"Le petit chien est sur la pente fatale!!!\"\n",
    "\n",
    "# remplace des caractères\n",
    "a = message.replace(\"petit chien\", \"grand chat\")\n",
    "\n",
    "# compte les occurrences d'une sous-chaîne (substring)\n",
    "b = message.count(\"!\")\n",
    "\n",
    "# sépare une string aux espaces blancs\n",
    "c = message.split(\" \")\n",
    "\n",
    "# joindre ensemble des strings\n",
    "d = \"-\".join(c)\n",
    "\n",
    "# afficher une variable pour voir le résultat"
   ]
  },
  {
   "cell_type": "markdown",
   "metadata": {
    "slideshow": {
     "slide_type": "slide"
    }
   },
   "source": [
    "## Fonctions - Exercice\n",
    "Les lignes commençant par `#` sont des commentaires, ignorés par Python. Les commentaires vous donnent les instructions de l'exercice.\n",
    "\n",
    "Complétez chaque cellule en ajoutant le code sous chaque commentaire, puis cliquez sur le bouton pour exécuter."
   ]
  },
  {
   "cell_type": "code",
   "execution_count": null,
   "metadata": {
    "slideshow": {
     "slide_type": "slide"
    }
   },
   "outputs": [],
   "source": [
    "# créer une variable qui est une string\n"
   ]
  },
  {
   "cell_type": "code",
   "execution_count": null,
   "metadata": {},
   "outputs": [],
   "source": [
    "# créer une nouvelle variable qui transforme la première en nombre entier\n"
   ]
  },
  {
   "cell_type": "code",
   "execution_count": null,
   "metadata": {},
   "outputs": [],
   "source": [
    "# trouver la longueur pour chaque variable. Que se passe-t-il ?\n"
   ]
  },
  {
   "cell_type": "code",
   "execution_count": null,
   "metadata": {},
   "outputs": [],
   "source": [
    "# demander de l'aide à propos de la deuxième variable !\n"
   ]
  },
  {
   "cell_type": "markdown",
   "metadata": {
    "slideshow": {
     "slide_type": "slide"
    },
    "tags": []
   },
   "source": [
    "### Fonctions - résumé\n",
    "- `print()`: montrer une variable\n",
    "- `help()`: aide à propos de Python. Si l'argument est une variable ou une fonction, vous verrez plus d'information à propos du type de variable, ou bien comment utiliser la fonction (ex : `help(a)`, `help(len)`)\n",
    "- `type()`: connaître le type d'une variable\n",
    "- `int()`: convertir une variable en nombre entier\n",
    "- `str()`: convertir une variable en string\n",
    "- `len()`: connaître la longueur d'une variable (pour une string, il s'agit du nombre de caractères)"
   ]
  },
  {
   "cell_type": "markdown",
   "metadata": {
    "slideshow": {
     "slide_type": "slide"
    },
    "tags": []
   },
   "source": [
    "## Pour aller plus loin...\n",
    "\n",
    "Pour bien comprendre le fonctionnement de *CollateX*, il peut être utile de connaîtres quelques autres types de données :\n",
    "\n",
    "1. listes\n",
    "2. dictionnaires\n",
    "3. objets"
   ]
  },
  {
   "cell_type": "markdown",
   "metadata": {
    "slideshow": {
     "slide_type": "slide"
    }
   },
   "source": [
    "###  Liste\n",
    "Les éléments d'une liste sont **ordonnés** en sequence. Une string est une forme de liste.\n",
    "\n",
    "on accède aux éléments via un nombre qui indique leur position dans la liste (**index**)."
   ]
  },
  {
   "cell_type": "code",
   "execution_count": null,
   "metadata": {},
   "outputs": [],
   "source": [
    "# parenthèses carrées\n",
    "cities = [\"Vienna\", \"London\", \"Paris\", \"Berlin\", \"Zurich\"]\n",
    "world = \"world\"\n",
    "\n",
    "# l'index commence à 0\n",
    "print(world[0])\n",
    "print(cities[1])"
   ]
  },
  {
   "cell_type": "code",
   "execution_count": null,
   "metadata": {
    "slideshow": {
     "slide_type": "slide"
    }
   },
   "outputs": [],
   "source": [
    "# ajouter un item\n",
    "cities.append(\"Grenoble\")\n",
    "\n",
    "# enlever un item\n",
    "cities.remove(\"Zurich\")\n",
    "\n",
    "cities"
   ]
  },
  {
   "cell_type": "code",
   "execution_count": null,
   "metadata": {},
   "outputs": [],
   "source": [
    "# les listes peuvent s'imbriquer\n",
    "lists = [[1, 2, 3],\n",
    "        [\"Rincewind\", \"Ridcully\", \"Hex\"],\n",
    "        [42, \"don't panic!\"]]"
   ]
  },
  {
   "cell_type": "markdown",
   "metadata": {
    "slideshow": {
     "slide_type": "slide"
    }
   },
   "source": [
    "### Dictionnaire\n",
    "\n",
    "Un dictionnaire est une collection **non ordonnée** de paires comprenant une clé et une valeur.\n",
    "\n",
    "La **clé** (*key*) est toujours une string.\n",
    "\n",
    "La **valeur** peut être n'importe quel type de donnée !\n"
   ]
  },
  {
   "cell_type": "code",
   "execution_count": null,
   "metadata": {
    "slideshow": {
     "slide_type": "-"
    }
   },
   "outputs": [],
   "source": [
    "# parenthèses\n",
    "book = {\"title\": \"Good Omens\",\n",
    "        \"author\": [\"Terry Pratchett\", \"Neil Gaiman\"],\n",
    "        \"year\": 1990\n",
    "       }\n",
    "# on accède à la valeur grâce à la clé\n",
    "book[\"author\"]"
   ]
  },
  {
   "cell_type": "code",
   "execution_count": null,
   "metadata": {
    "slideshow": {
     "slide_type": "slide"
    }
   },
   "outputs": [],
   "source": [
    "# ajouter une paire clé/valeur\n",
    "book[\"publisher\"] = \"Gollancz\"\n",
    "\n",
    "# enlever une paire clé/valeur\n",
    "book.pop(\"year\")\n",
    "\n",
    "book"
   ]
  },
  {
   "cell_type": "markdown",
   "metadata": {
    "slideshow": {
     "slide_type": "slide"
    }
   },
   "source": [
    "### Objets\n",
    "\n",
    "Python est un langage de programmation orienté objet. Presque tout en Python est un objet, avec ses propriétés et ses méthodes, par ex. string, entiers, listes, etc.\n",
    "\n",
    "Nous avons vu que **1 variable = 1 type de données** (plus ou moins, il existe des types de données plus complexes comme les listes et les dictionnaires).\n",
    "\n",
    "Mais parfois, un seul type de données ne peut pas décrire quelque chose correctement. Les **Classes** vous permettent de créer vos propres objets et d'écrire des méthodes pour vos objets."
   ]
  },
  {
   "cell_type": "markdown",
   "metadata": {
    "slideshow": {
     "slide_type": "slide"
    }
   },
   "source": [
    "Par exemple, vous pouvez imaginer un objet Livre qui possède 3 propriétés ou plus : titre, auteur, date...\n",
    "\n",
    "Imaginez que vous avez beaucoup de livres. Vous pouvez désormais faire différentes choses :\n",
    "\n",
    "- les classer par ordre alphabétique du titre\n",
    "- demander combien de livres ont été écrits par l'auteur X\n",
    "- demander quel livre a été publié en premier"
   ]
  },
  {
   "cell_type": "code",
   "execution_count": null,
   "metadata": {
    "slideshow": {
     "slide_type": "skip"
    }
   },
   "outputs": [],
   "source": [
    "# exemple d'une Classe Book\n",
    "\n",
    "class Book:\n",
    "    # quand Book() is appelé, cela créé un objet Book (une \"instance\")\n",
    "    def __init__(self, t, a, y):\n",
    "        self.title = t # ajouter le titre\n",
    "        self.author = a # ajouter l'auteur\n",
    "        self.year = y # ajouter l'année de publication\n",
    "\n",
    "# la fonction Book() a besoin de trois arguments, dans le bon ordre :\n",
    "#1. titre, 2. auteur, 3. date de publication\n",
    "b = Book(\"Alice's adventures in Wonderland\", \"Lewis Carroll\", 1865)\n",
    "\n",
    "# contrôler l'auteur du livre qu'on vient de créer\n",
    "b.author"
   ]
  },
  {
   "cell_type": "markdown",
   "metadata": {
    "slideshow": {
     "slide_type": "fragment"
    }
   },
   "source": [
    "**Pourquoi est-ce important ?**\n",
    "Nous n'allons pas créer d'objets nous-mêmes, mais il peut être utile de comprendre ce concept car c'est ainsi qu'est organisé le module CollateX.\n",
    "\n",
    "**Exercices :**\n",
    "Pouvez-vous imaginer quelles propriétés devrait avoir une classe « Collation » ? De quelles autres classes aurions-nous besoin ?"
   ]
  },
  {
   "cell_type": "markdown",
   "metadata": {
    "slideshow": {
     "slide_type": "slide"
    }
   },
   "source": [
    "## Matériel supplémentaire (anglais)\n",
    "\n",
    "- Cours Python : [types et variables](https://www.python-course.eu/python3_variables.php)\n",
    "- The Python Tutorial: [lire et écrire des fichiers](https://docs.python.org/3/tutorial/inputoutput.html#reading-and-writing-files)\n",
    "- Real Python: [comprendre un message d'erreur](https://realpython.com/python-traceback/#what-are-some-common-tracebacks-in-python)\n",
    "- W3Schools Python tutorial: [objets et classes](https://www.w3schools.com/python/python_classes.asp)"
   ]
  }
 ],
 "metadata": {
  "celltoolbar": "Slideshow",
  "kernelspec": {
   "display_name": "Python 3 (ipykernel)",
   "language": "python",
   "name": "python3"
  },
  "language_info": {
   "codemirror_mode": {
    "name": "ipython",
    "version": 3
   },
   "file_extension": ".py",
   "mimetype": "text/x-python",
   "name": "python",
   "nbconvert_exporter": "python",
   "pygments_lexer": "ipython3",
   "version": "3.10.9"
  },
  "rise": {
   "scroll": true,
   "theme": "solarized",
   "transition": "slide"
  }
 },
 "nbformat": 4,
 "nbformat_minor": 4
}
