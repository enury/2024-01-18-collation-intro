{
 "cells": [
  {
   "cell_type": "markdown",
   "metadata": {
    "slideshow": {
     "slide_type": "slide"
    }
   },
   "source": [
    "# 1. Qu'est-ce qu'un Notebook Jupyter ?"
   ]
  },
  {
   "cell_type": "markdown",
   "metadata": {
    "slideshow": {
     "slide_type": "fragment"
    },
    "tags": []
   },
   "source": [
    "- is a file, with extension `.ipynb`\n",
    "- contains \n",
    "  1. text (to be read) \n",
    "  2. code (to be run, or executed);\n",
    "- the text is written in the Markdown markup language and the code in the Python programming language\n",
    "\n"
   ]
  },
  {
   "cell_type": "markdown",
   "metadata": {
    "slideshow": {
     "slide_type": "slide"
    }
   },
   "source": [
    "## Start Jupyter Notebook through Binder\n",
    "\n",
    "- Go to our Github repo at https://github.com/enury/2024-01-18-collation-intro\n",
    "- Click the button : ![image.png](https://mybinder.org/static/images/badge_logo.svg?v=117793ab76524046ef44e2d2d5af220c)\n",
    "\n",
    "Cela peut prendre un petit moment pour se mettre en route."
   ]
  },
  {
   "cell_type": "markdown",
   "metadata": {
    "slideshow": {
     "slide_type": "slide"
    },
    "tags": []
   },
   "source": [
    "![image.png](images/jupyter-lab-homepage.png)\n",
    "\n",
    "Vous voyez quelque chose comme ça ? Hourra !"
   ]
  },
  {
   "cell_type": "markdown",
   "metadata": {
    "slideshow": {
     "slide_type": "slide"
    },
    "tags": []
   },
   "source": [
    "## Page d'accueil\n",
    "\n",
    "Le panneau latéral gauche montre un gestionnaire de fichier, où vous pouvez naviguer normalement dans les dossiers. \n",
    "\n",
    "- **Data**: les données à utiliser pour la collation, \n",
    "- **Images** : les images qui illustrent les notebooks, comme celle juste au-dessus\n",
    "- **Notebooks** = les fichiers avec extension *.ipynb* notebooks\n",
    "\n",
    "Faites un double-clic sur `Partie1-Jupyter-python-intro.ipynb` pour ouvrir le notebook."
   ]
  },
  {
   "cell_type": "markdown",
   "metadata": {
    "slideshow": {
     "slide_type": "slide"
    }
   },
   "source": [
    "## Basic operations in Jupyter Notebook\n",
    "\n",
    "First, a Jupyter Notenook is made of **cells**, just like a prose text is made of paragraphs. The **borders** of a cell appear when you click on it. Try clicking anywhere in the file and you'll see them!\n",
    "\n",
    "A cell can contain:\n",
    "\n",
    "1. **Text in Markdown**: this is the styled text mode that we use when we’re not writing code, to add documentation and instructions.\n",
    "2. **Code in Python**.\n",
    "\n",
    "Voyons un peu comment cela fonctionne..."
   ]
  },
  {
   "cell_type": "markdown",
   "metadata": {
    "slideshow": {
     "slide_type": "slide"
    },
    "tags": []
   },
   "source": [
    "### Les actions concernant les cellules\n",
    "\n",
    "![image.png](images/jupyter-barre1.png)\n",
    "\n",
    "1. Ajouter une nouvelle cellule\n",
    "2. Afficher le texte / exécuter le code (CTRL+Enter)\n",
    "3. Changer le type de cellule"
   ]
  },
  {
   "cell_type": "markdown",
   "metadata": {
    "slideshow": {
     "slide_type": "slide"
    }
   },
   "source": [
    "### Cellules de texte\n",
    "\n",
    "Cette cellule contient du texte ! Essayez de double-cliquez dessus pour voir apparaître le formattage:\n",
    "\n",
    "- Trois hashtags indiquent un titre de niveau trois \n",
    "- Everything between une asterisks is *italic*\n",
    "- Everything between deux asterisks is **bold**\n",
    "- les tirets créent une liste\n",
    "\n",
    "On peut modifier le texte, par exemple changez le niveau du titre en enlenvant ou ajoutant des hashtags.\n",
    "\n",
    "Maintenant cliquez sur le bouton ![run](images/jupyter-bouton1.png) pour afficher le texte."
   ]
  },
  {
   "cell_type": "markdown",
   "metadata": {
    "slideshow": {
     "slide_type": "subslide"
    },
    "tags": []
   },
   "source": [
    "### Markdown\n",
    "\n",
    "Cette syntaxe s'appelle markdown. \n",
    "\n",
    "Voici une *cheatsheet* [ici](https://www.markdownguide.org/cheat-sheet) et un tutoriel [ici](https://www.markdowntutorial.com/) (Attention: la traduction française peut contenir des erreurs)."
   ]
  },
  {
   "cell_type": "markdown",
   "metadata": {
    "slideshow": {
     "slide_type": "slide"
    }
   },
   "source": [
    "### Cellules de Code\n",
    "\n",
    "Comme pour le texte, il faut double-cliquer pour \"entrer\" dans la cellule et la modifier.\n",
    "\n",
    "Puis ![run](images/jupyter-bouton1.png) pour exécuter le code !"
   ]
  },
  {
   "cell_type": "code",
   "execution_count": 11,
   "metadata": {
    "slideshow": {
     "slide_type": "-"
    }
   },
   "outputs": [
    {
     "name": "stdout",
     "output_type": "stream",
     "text": [
      "Bonjour à tous !\n"
     ]
    }
   ],
   "source": [
    "print(\"Bonjour à tous !\")"
   ]
  },
  {
   "cell_type": "markdown",
   "metadata": {
    "slideshow": {
     "slide_type": "fragment"
    }
   },
   "source": [
    "#### Input and output sections in code cells\n",
    "\n",
    "The sequence above shows a key aspect of Jupyter code cells: there’s an **input section** and an **output section**: the input section is where you write the code and is indicated on the left of the editing box with the word “In” followed by a number in square brackets; the output section is where the result of running your code will appear, below the input section."
   ]
  },
  {
   "cell_type": "markdown",
   "metadata": {
    "slideshow": {
     "slide_type": "slide"
    },
    "tags": []
   },
   "source": [
    "## *A votre tour !*"
   ]
  },
  {
   "cell_type": "markdown",
   "metadata": {
    "slideshow": {
     "slide_type": "slide"
    },
    "tags": []
   },
   "source": [
    "### Cellule de texte\n",
    "\n",
    "1. Sélectionnez la cellule *Insérez du texte* en cliquant dessus, et appuyer sur le bouton **+** dans la barre des tâches.\n",
    "2. une fois dans votre cellule, changez son type en sélectionnant _Markdown_ au lieu de _Code_. Le `in [ ]` à gauche va disparaître.\n",
    "3. Copiez le texte suivant dans la nouvelle cellule et affichez le résultat avec le bouton ![run](images/jupyter-bouton1.png).\n",
    "\n",
    "\n",
    "`# Bienvenue !`\n",
    "\n",
    "`Voici mon **premier** notebook *Jupyter*.`\n",
    "\n"
   ]
  },
  {
   "cell_type": "markdown",
   "metadata": {},
   "source": [
    "### *Insérez du texte*"
   ]
  },
  {
   "cell_type": "markdown",
   "metadata": {
    "slideshow": {
     "slide_type": "slide"
    },
    "tags": []
   },
   "source": [
    "### Cellule de Code\n",
    "\n",
    "1. Cliquez sur la cellule *Insérez du code* en cliquant dessus, et appuyez sur le bouton **+** dans la barre des tâches.\n",
    "2. Ne pas changer le type de cellule !\n",
    "3. Copiez et exécutez le code ci-dessous\n",
    "\n",
    "`print(\"Hello World!\")`\n",
    "\n",
    "Bravo, vous avez créé votre premier programme !"
   ]
  },
  {
   "cell_type": "markdown",
   "metadata": {},
   "source": [
    "### *Insérez du code*"
   ]
  },
  {
   "cell_type": "markdown",
   "metadata": {
    "slideshow": {
     "slide_type": "slide"
    }
   },
   "source": [
    "## Save\n",
    "\n",
    "If we have been working on a notebook, we would of course want to save our work before quitting. For saving the notebook you are working on, you have again several options:\n",
    "- press the file icon, that is the first button on the left\n",
    "- (or, alternative) select *Save and checkpoint* from the File menu\n",
    "- (or, alternative) hit Ctrl+s\n"
   ]
  },
  {
   "cell_type": "markdown",
   "metadata": {
    "slideshow": {
     "slide_type": "fragment"
    }
   },
   "source": [
    "#### ... but if we are in the virtual machine created by Binder \n",
    "\n",
    "nothing will be saved to our computer.\n",
    "\n",
    "Luckily, we have another option:\n"
   ]
  },
  {
   "cell_type": "markdown",
   "metadata": {
    "slideshow": {
     "slide_type": "slide"
    }
   },
   "source": [
    "## Download and upload\n",
    "\n",
    "We can download the notebook in different formats (menu `File > Download as`). We suggest to always save a copy in the .ipynb format, in addition to other formats you might want to use: this way, you will be able to work again on the notebook and export its content in new formats if needed.\n",
    "\n",
    "To reopen a notebook that you have download to your computer, you can use the Upload function (see below)."
   ]
  },
  {
   "cell_type": "markdown",
   "metadata": {
    "slideshow": {
     "slide_type": "slide"
    }
   },
   "source": [
    "## Create a new notebook\n",
    "\n",
    "- Go back to the tab in your browser with the file manager (see the image above) and navigate to the folder in which you want to open a new file.\n",
    "- Select the type of file you want to create from the 'New' dropdown menu on the right: for a Jupyter Notebook, select 'Python 3'.\n",
    "- A new tab with the new file will open. Give it a name by double-clicking on the name 'Untitled' and typing your new name.\n",
    "- That's it!"
   ]
  },
  {
   "cell_type": "markdown",
   "metadata": {
    "slideshow": {
     "slide_type": "slide"
    }
   },
   "source": [
    "## More about Jupyter notebooks\n",
    "\n",
    "Resources about Jupyter Notebook are available through\n",
    "\n",
    "- the official [Jupyter](https://jupyter.org/) page\n",
    "- the Jupyter Notebook [documentation](https://jupyter-notebook.readthedocs.io/en/stable/index.html)\n",
    "- many other places on the web\n",
    "\n",
    "For a DH oriented introduction, have a look at the first chapters (*Getting setup* and *Getting started*) of [The Art of Literary Text Analysis](http://nbviewer.jupyter.org/github/sgsinclair/alta/blob/master/ipynb/ArtOfLiteraryTextAnalysis.ipynb) by Stéfan Sinclair & Geoffrey Rockwell."
   ]
  },
  {
   "cell_type": "markdown",
   "metadata": {
    "slideshow": {
     "slide_type": "slide"
    }
   },
   "source": [
    "# 2. Introduction à Python"
   ]
  },
  {
   "cell_type": "markdown",
   "metadata": {
    "slideshow": {
     "slide_type": "fragment"
    }
   },
   "source": [
    "## Summary\n",
    "\n",
    "- data types\n",
    "- variables\n",
    "- functions\n",
    "- open and read files\n",
    "- import packages\n"
   ]
  },
  {
   "cell_type": "markdown",
   "metadata": {
    "slideshow": {
     "slide_type": "slide"
    }
   },
   "source": [
    "## Data types\n",
    "\n",
    "Data types tell the computer what a piece of data is, and what it can do with it.\n",
    "\n",
    "You do not do the same things with words, or with numbers..."
   ]
  },
  {
   "cell_type": "code",
   "execution_count": null,
   "metadata": {
    "slideshow": {
     "slide_type": "-"
    }
   },
   "outputs": [],
   "source": [
    "# compare\n",
    "\"20\"+\"20\""
   ]
  },
  {
   "cell_type": "code",
   "execution_count": null,
   "metadata": {
    "slideshow": {
     "slide_type": "-"
    }
   },
   "outputs": [],
   "source": [
    "20+20"
   ]
  },
  {
   "cell_type": "markdown",
   "metadata": {
    "slideshow": {
     "slide_type": "slide"
    }
   },
   "source": [
    "**String (str)**:\n",
    "A sequence of characters (letters, punctuation, whitespace...)\n",
    "\n",
    "**Integer (int) and Float (float)**:  \n",
    "correspond to whole numbers (42) and decimal numbers (42.5)\n",
    "\n",
    "**Boolean (bool)**: \n",
    "either `True` or `False`"
   ]
  },
  {
   "cell_type": "code",
   "execution_count": 6,
   "metadata": {
    "slideshow": {
     "slide_type": "-"
    }
   },
   "outputs": [
    {
     "data": {
      "text/plain": [
       "str"
      ]
     },
     "execution_count": 6,
     "metadata": {},
     "output_type": "execute_result"
    }
   ],
   "source": [
    "# find the type of something\n",
    "type(\"20\")"
   ]
  },
  {
   "cell_type": "markdown",
   "metadata": {
    "slideshow": {
     "slide_type": "slide"
    }
   },
   "source": [
    "## Variables\n",
    "Variables are used to give names to a piece of data (number, characters, strings, etc.)\n"
   ]
  },
  {
   "cell_type": "code",
   "execution_count": null,
   "metadata": {
    "slideshow": {
     "slide_type": "fragment"
    }
   },
   "outputs": [],
   "source": [
    "# Here is how you assign a value to a variable\n",
    "# variable_name = variable_value\n",
    "a = 3.14159\n",
    "b = \"hello world!\" # you can also use single quotes: 'hello'\n",
    "c = b"
   ]
  },
  {
   "cell_type": "markdown",
   "metadata": {
    "slideshow": {
     "slide_type": "slide"
    }
   },
   "source": [
    "\n",
    "\n",
    "- Variables are used to store information to be accessed and manipulated in a computer program.\n",
    "- You can think of it as a **label** pointing at something stored in memory.\n",
    "- The value of a variable can be changed.\n",
    "- You need to assign a value to a variable before you can use it."
   ]
  },
  {
   "cell_type": "code",
   "execution_count": null,
   "metadata": {
    "slideshow": {
     "slide_type": "slide"
    }
   },
   "outputs": [],
   "source": [
    "# 1. assign a value to variable x\n",
    "x = 2+3\n",
    "\n",
    "# 2. you can reuse and modify your variable\n",
    "y = x*2\n",
    "x = \"+++ Divide By Cucumber Error. Please Reinstall Universe And Reboot +++\"\n",
    "\n",
    "# check the value of x and y\n",
    "print(x)\n",
    "print(y)"
   ]
  },
  {
   "cell_type": "markdown",
   "metadata": {
    "slideshow": {
     "slide_type": "slide"
    }
   },
   "source": [
    "## Variables - Names\n",
    "\n",
    "- The name of a variable can **contain** letters, numbers and underscore characters `_`\n",
    "- The name of a variable **starts** with a letter or `_`\n",
    "- It is case sensitive (`Test`and `test` are different variables)\n",
    "- Use meaningful variable names (not `a` or `b`, but better `wordCount` or `word_count`)"
   ]
  },
  {
   "cell_type": "markdown",
   "metadata": {
    "slideshow": {
     "slide_type": "slide"
    }
   },
   "source": [
    "## Errors: Don't Panic!"
   ]
  },
  {
   "cell_type": "code",
   "execution_count": null,
   "metadata": {
    "slideshow": {
     "slide_type": "fragment"
    }
   },
   "outputs": [],
   "source": [
    "a = \"The answer is \"\n",
    "b = 42\n",
    "a+b"
   ]
  },
  {
   "cell_type": "markdown",
   "metadata": {
    "slideshow": {
     "slide_type": "fragment"
    }
   },
   "source": [
    "<img src=\"images/python-error-1.png\"  style=\"display:block;margin-right:auto;margin-left:auto;\">"
   ]
  },
  {
   "cell_type": "markdown",
   "metadata": {
    "slideshow": {
     "slide_type": "subslide"
    }
   },
   "source": [
    "Python gives you the information that you need to correct the error:\n",
    "1. The sort of error that was made: there is a problem with a data type.\n",
    "2. The error message: something should be a string, but instead Python got an integer.\n",
    "3. The line of code where the error happened: it highlighted with an arrow.\n",
    "\n",
    "**Conclusion**: the variable `b` should be converted to a string, if we want to eliminate the error at line 3 `a+b` ."
   ]
  },
  {
   "cell_type": "markdown",
   "metadata": {
    "slideshow": {
     "slide_type": "slide"
    }
   },
   "source": [
    "## Functions\n",
    "This is how you give orders to the computer!"
   ]
  },
  {
   "cell_type": "code",
   "execution_count": 4,
   "metadata": {
    "slideshow": {
     "slide_type": "fragment"
    }
   },
   "outputs": [
    {
     "name": "stdout",
     "output_type": "stream",
     "text": [
      "Salut !\n"
     ]
    }
   ],
   "source": [
    "# assign your name to the variable\n",
    "name = \"\"\n",
    "\n",
    "# tell the computer to say hi\n",
    "print(\"Salut \"+name+\"!\")"
   ]
  },
  {
   "cell_type": "markdown",
   "metadata": {
    "slideshow": {
     "slide_type": "slide"
    }
   },
   "source": [
    "## Functions - Examples\n",
    "\n",
    "- general: `print()`, `help()`\n",
    "- data types: `type()`, `int()`, `str()`\n",
    "- counting the length: `len()`\n",
    "\n",
    "What goes inside the parenthesis is called the `argument`. Arguments are information passed to the function so that it can do its job! Arguments can be optional or mandatory."
   ]
  },
  {
   "cell_type": "markdown",
   "metadata": {
    "slideshow": {
     "slide_type": "slide"
    }
   },
   "source": [
    "Functions usually send you back some information that can be stored in a variable, for later use:"
   ]
  },
  {
   "cell_type": "code",
   "execution_count": null,
   "metadata": {
    "scrolled": true,
    "slideshow": {
     "slide_type": "-"
    }
   },
   "outputs": [],
   "source": [
    "a = \"a short string\"\n",
    "b = len(a)\n",
    "print(b)"
   ]
  },
  {
   "cell_type": "markdown",
   "metadata": {
    "slideshow": {
     "slide_type": "slide"
    }
   },
   "source": [
    "## Methods\n",
    "Methods are functions that apply only to a certain data type:\n",
    "`str.upper()`, `str.find(sub[, start[, end]])`\n",
    "\n",
    "These functions apply to the data type *string* (str). What you see in the parenthesis are the arguments: `str.upper` has no argument, but `str.find` needs at least one argument (*sub*) and has two optional arguments (*start* and *end*)\n",
    "\n",
    "Here is a list of methods available for strings: <https://docs.python.org/3/library/stdtypes.html#string-methods>"
   ]
  },
  {
   "cell_type": "markdown",
   "metadata": {
    "slideshow": {
     "slide_type": "slide"
    }
   },
   "source": [
    "## Examples - Working with Strings"
   ]
  },
  {
   "cell_type": "code",
   "execution_count": null,
   "metadata": {
    "slideshow": {
     "slide_type": "-"
    }
   },
   "outputs": [],
   "source": [
    "message = \"Le petit chien est sur la pente fatale!!!\"\n",
    "\n",
    "# replace characters\n",
    "a = message.replace(\"petit chien\", \"grand chat\")\n",
    "\n",
    "# count occurrences of a substring\n",
    "b = message.count(\"!\")\n",
    "\n",
    "# split a string at whitespace characters\n",
    "c = message.split(\" \")\n",
    "\n",
    "# join strings together\n",
    "d = \"-\".join(c)\n",
    "\n",
    "# print a variable to see the result"
   ]
  },
  {
   "cell_type": "markdown",
   "metadata": {
    "slideshow": {
     "slide_type": "slide"
    }
   },
   "source": [
    "## Functions - Exercises\n",
    "\n",
    "The lines starting with # are comments, they are ignored by Python. The comments give you the instruction of the exercise.\n",
    "\n",
    "Complete each cell by adding code below the comment, and then run then cell (click on 'Run' or 'Exécuter')."
   ]
  },
  {
   "cell_type": "code",
   "execution_count": 17,
   "metadata": {
    "slideshow": {
     "slide_type": "slide"
    }
   },
   "outputs": [],
   "source": [
    "# create a variable that is a string\n"
   ]
  },
  {
   "cell_type": "code",
   "execution_count": 18,
   "metadata": {},
   "outputs": [],
   "source": [
    "# create a new variable that transforms the first one into a number\n"
   ]
  },
  {
   "cell_type": "code",
   "execution_count": 20,
   "metadata": {},
   "outputs": [
    {
     "ename": "TypeError",
     "evalue": "object of type 'int' has no len()",
     "output_type": "error",
     "traceback": [
      "\u001b[1;31m---------------------------------------------------------------------------\u001b[0m",
      "\u001b[1;31mTypeError\u001b[0m                                 Traceback (most recent call last)",
      "Cell \u001b[1;32mIn[20], line 2\u001b[0m\n\u001b[0;32m      1\u001b[0m \u001b[38;5;66;03m# find the length of both variables - what happens? Why?\u001b[39;00m\n\u001b[1;32m----> 2\u001b[0m \u001b[38;5;28;43mlen\u001b[39;49m\u001b[43m(\u001b[49m\u001b[43mb\u001b[49m\u001b[43m)\u001b[49m\n",
      "\u001b[1;31mTypeError\u001b[0m: object of type 'int' has no len()"
     ]
    }
   ],
   "source": [
    "# find the length of both variables - what happens? Why?\n"
   ]
  },
  {
   "cell_type": "code",
   "execution_count": null,
   "metadata": {},
   "outputs": [],
   "source": [
    "# ask the computer for help about the second variable!\n"
   ]
  },
  {
   "cell_type": "markdown",
   "metadata": {
    "slideshow": {
     "slide_type": "subslide"
    }
   },
   "source": [
    "### Fonctions - résumé\n",
    "- `print()`: displays a variable\n",
    "- `help()`: shows help about Python. If you give a variable name or a function name, you will receive more information about the variable data type, or how you can use the function (e.g. `help(a)` or `help(len)`.\n",
    "\n",
    "- `type()`: gives you the type of a variable\n",
    "- `int()`: converts a variable into an integer\n",
    "- `str()`: converts a variable into a string\n",
    "\n",
    "- `len()`: gives you the length of a variable (for a string, the number of characters it contains)"
   ]
  },
  {
   "cell_type": "markdown",
   "metadata": {},
   "source": [
    "## Pour aller plus loin...\n",
    "\n",
    "Pour bien comprendre le fonctionnement de *CollateX*, il peut être utile de connaîtres quelques autres types de données:\n",
    "\n",
    "1. listes\n",
    "2. dictionnaires\n",
    "3. objets"
   ]
  },
  {
   "cell_type": "markdown",
   "metadata": {
    "slideshow": {
     "slide_type": "slide"
    }
   },
   "source": [
    "###  Liste\n",
    "The items or elements of lists are **ordered** in a defined sequence. A string is a sort of list.\n",
    "The elements of a list can be accessed via a number that indicates their position inside the list (the **index**)."
   ]
  },
  {
   "cell_type": "code",
   "execution_count": null,
   "metadata": {},
   "outputs": [],
   "source": [
    "cities = [\"Vienna\", \"London\", \"Paris\", \"Berlin\", \"Zurich\"] # square brackets\n",
    "world = \"world\"\n",
    "\n",
    "# the index starts at 0\n",
    "print(world[0])\n",
    "print(cities[1])"
   ]
  },
  {
   "cell_type": "code",
   "execution_count": null,
   "metadata": {
    "slideshow": {
     "slide_type": "slide"
    }
   },
   "outputs": [],
   "source": [
    "# add item\n",
    "cities.append(\"Lausanne\")\n",
    "\n",
    "# remove item\n",
    "cities.remove(\"Zurich\")\n",
    "\n",
    "cities"
   ]
  },
  {
   "cell_type": "code",
   "execution_count": null,
   "metadata": {},
   "outputs": [],
   "source": [
    "# you can have a list of lists\n",
    "lists = [[1, 2, 3],\n",
    "        [\"Rincewind\", \"Ridcully\", \"Hex\"],\n",
    "        [42, \"don't panic!\"]]"
   ]
  },
  {
   "cell_type": "markdown",
   "metadata": {
    "slideshow": {
     "slide_type": "slide"
    }
   },
   "source": [
    "### Dictionnaire\n",
    "\n",
    "A dictionary is an **unordered** collection of pairs of key/value.\n",
    "\n",
    "The **key** is always a string.\n",
    "\n",
    "The **value** can be anything!\n"
   ]
  },
  {
   "cell_type": "code",
   "execution_count": null,
   "metadata": {
    "slideshow": {
     "slide_type": "-"
    }
   },
   "outputs": [],
   "source": [
    "# a dictionary is in curly brackets\n",
    "book = {\"title\": \"Good Omens\",\n",
    "        \"author\": [\"Terry Pratchett\", \"Neil Gaiman\"],\n",
    "        \"year\": 1990\n",
    "       }\n",
    "# you can access a value thanks to the key\n",
    "book[\"author\"]"
   ]
  },
  {
   "cell_type": "code",
   "execution_count": null,
   "metadata": {
    "slideshow": {
     "slide_type": "slide"
    }
   },
   "outputs": [],
   "source": [
    "# add a key/value pair\n",
    "book[\"publisher\"] = \"Gollancz\"\n",
    "\n",
    "# remove a key/value pair\n",
    "book.pop(\"year\")\n",
    "\n",
    "book"
   ]
  },
  {
   "cell_type": "markdown",
   "metadata": {
    "slideshow": {
     "slide_type": "slide"
    }
   },
   "source": [
    "### Objets\n",
    "\n",
    "Python is an Object Oriented Programming language. Almost everything in Python is an object, with its properties and methods, e.g. strings, integers, lists, etc \n",
    "\n",
    "We have seen that **1 variable = 1 data type** (more or less, there are some more complex data types like lists and dictionaries).\n",
    "\n",
    "But sometimes a single data type cannot describe something properly. **Classes** let you create your own objects and write methods for your objects."
   ]
  },
  {
   "cell_type": "markdown",
   "metadata": {
    "slideshow": {
     "slide_type": "slide"
    }
   },
   "source": [
    "For example, you can imagine a Book oject that has 3 or more properties: title, author, date...\n",
    "\n",
    "Imagine that you have a lot of books. Now you can do different things:\n",
    "\n",
    "- order them alphabetically by titles\n",
    "- ask how many books were written by author X\n",
    "- ask which book was published first\n"
   ]
  },
  {
   "cell_type": "code",
   "execution_count": null,
   "metadata": {
    "slideshow": {
     "slide_type": "skip"
    }
   },
   "outputs": [],
   "source": [
    "# example of a Book class definition\n",
    "\n",
    "class Book:\n",
    "    # when Book() is called, it creates a Book object (an \"instance\")\n",
    "    def __init__(self, t, a, y):\n",
    "        self.title = t # set title\n",
    "        self.author = a # set author\n",
    "        self.year = y # set year\n",
    "    \n",
    "# the Book() function needs three arguments, in the proper order: \n",
    "#1. title, 2. author, 3. date of publication\n",
    "b = Book(\"Alice's adventures in Wonderland\", \"Lewis Carroll\", 1865)\n",
    "\n",
    "# check the author of the book you just created\n",
    "b.author"
   ]
  },
  {
   "cell_type": "markdown",
   "metadata": {
    "slideshow": {
     "slide_type": "fragment"
    }
   },
   "source": [
    "**Why does this matter?**  \n",
    "We are not going to create objects ourselves, but it can be useful to understand this concept because that is how the CollateX module is organized.\n",
    "\n",
    "**Exercice:**  \n",
    "Can you imagine what properties should a \"Collation\" class have? What other classes would we need?"
   ]
  },
  {
   "cell_type": "markdown",
   "metadata": {
    "slideshow": {
     "slide_type": "slide"
    }
   },
   "source": [
    "## Additional materials\n",
    "\n",
    "- Python course: [data types and variables](https://www.python-course.eu/python3_variables.php)\n",
    "- The Python Tutorial: [read and write files](https://docs.python.org/3/tutorial/inputoutput.html#reading-and-writing-files)\n",
    "- Real Python: [understanding error messages](https://realpython.com/python-traceback/#what-are-some-common-tracebacks-in-python)\n",
    "- W3Schools Python tutorial: [objects and classes](https://www.w3schools.com/python/python_classes.asp)"
   ]
  }
 ],
 "metadata": {
  "celltoolbar": "Slideshow",
  "kernelspec": {
   "display_name": "Python 3 (ipykernel)",
   "language": "python",
   "name": "python3"
  },
  "language_info": {
   "codemirror_mode": {
    "name": "ipython",
    "version": 3
   },
   "file_extension": ".py",
   "mimetype": "text/x-python",
   "name": "python",
   "nbconvert_exporter": "python",
   "pygments_lexer": "ipython3",
   "version": "3.10.9"
  },
  "rise": {
   "scroll": true,
   "theme": "solarized",
   "transition": "slide"
  }
 },
 "nbformat": 4,
 "nbformat_minor": 4
}
